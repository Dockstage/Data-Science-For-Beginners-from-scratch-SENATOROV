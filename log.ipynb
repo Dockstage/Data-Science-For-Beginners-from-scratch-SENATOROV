{
 "cells": [
  {
   "cell_type": "code",
   "execution_count": null,
   "id": "b21177c1",
   "metadata": {},
   "outputs": [],
   "source": [
    "\"\"\"Здесь будут все записи по выполнению домашних заданий.\"\"\""
   ]
  },
  {
   "cell_type": "markdown",
   "id": "8c3340f4",
   "metadata": {},
   "source": [
    "06.06.2025\n",
    "\n",
    "1. Разбираюсь, как взаимодействовать с гитом через Cursor"
   ]
  }
 ],
 "metadata": {
  "language_info": {
   "name": "python"
  }
 },
 "nbformat": 4,
 "nbformat_minor": 5
}
